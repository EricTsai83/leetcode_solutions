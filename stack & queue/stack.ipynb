{
 "cells": [
  {
   "cell_type": "markdown",
   "metadata": {},
   "source": [
    "### [LIFO(last in，first out)](https://leetcode.com/problems/valid-parentheses/submissions/)\n",
    "```\n",
    "Runtime: 43 ms, faster than 76.28% of Python3 online submissions for Valid Parentheses.\n",
    "Memory Usage: 13.9 MB, less than 72.15% of Python3 online submissions for Valid Parentheses.\n",
    "```\n"
   ]
  },
  {
   "cell_type": "code",
   "execution_count": 27,
   "metadata": {},
   "outputs": [],
   "source": [
    "def isValid(s: str) -> bool:\n",
    "    if len(s) <= 1:\n",
    "        return False\n",
    "    tmp_stack = []\n",
    "    for i, elem in enumerate(s):\n",
    "        try:\n",
    "            if elem in set(['{', '(', '[']):\n",
    "                tmp_stack.append(elem)\n",
    "            if elem == '}':\n",
    "                if tmp_stack.pop() != '{':\n",
    "                    return False\n",
    "            if elem == ')':\n",
    "                if tmp_stack.pop() != '(':\n",
    "                    return False\n",
    "            if elem == ']':\n",
    "                if tmp_stack.pop() != '[':\n",
    "                    return False\n",
    "        except:\n",
    "            return False\n",
    "    if len(tmp_stack) == 0:\n",
    "        return True\n",
    "    else: \n",
    "        return False\n"
   ]
  },
  {
   "cell_type": "code",
   "execution_count": 28,
   "metadata": {},
   "outputs": [
    {
     "data": {
      "text/plain": [
       "True"
      ]
     },
     "execution_count": 28,
     "metadata": {},
     "output_type": "execute_result"
    }
   ],
   "source": [
    "s = str(\"(){}\")\n",
    "isValid(s)"
   ]
  },
  {
   "cell_type": "code",
   "execution_count": 30,
   "metadata": {},
   "outputs": [
    {
     "data": {
      "text/plain": [
       "False"
      ]
     },
     "execution_count": 30,
     "metadata": {},
     "output_type": "execute_result"
    }
   ],
   "source": [
    "s = str(\"((){}\")\n",
    "isValid(s)"
   ]
  }
 ],
 "metadata": {
  "kernelspec": {
   "display_name": "Python 3.8.13 ('ckip_env')",
   "language": "python",
   "name": "python3"
  },
  "language_info": {
   "codemirror_mode": {
    "name": "ipython",
    "version": 3
   },
   "file_extension": ".py",
   "mimetype": "text/x-python",
   "name": "python",
   "nbconvert_exporter": "python",
   "pygments_lexer": "ipython3",
   "version": "3.8.13"
  },
  "orig_nbformat": 4,
  "vscode": {
   "interpreter": {
    "hash": "06187b0398c5865e4abb9cf35dd0ffb3c218374262a94c60bb1ffc807459510b"
   }
  }
 },
 "nbformat": 4,
 "nbformat_minor": 2
}
