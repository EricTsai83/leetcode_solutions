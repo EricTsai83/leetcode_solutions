{
 "cells": [
  {
   "cell_type": "code",
   "execution_count": 1,
   "metadata": {},
   "outputs": [],
   "source": [
    "nums = [4, 2, 7, 1, 3]"
   ]
  },
  {
   "cell_type": "code",
   "execution_count": 14,
   "metadata": {},
   "outputs": [
    {
     "name": "stdout",
     "output_type": "stream",
     "text": [
      "unsorted_last_idx: 3 \n",
      " nums: [2, 4, 1, 3, 7] \n",
      " ----------------------------------------------------------------------\n",
      "unsorted_last_idx: 2 \n",
      " nums: [2, 1, 3, 4, 7] \n",
      " ----------------------------------------------------------------------\n",
      "unsorted_last_idx: 1 \n",
      " nums: [1, 2, 3, 4, 7] \n",
      " ----------------------------------------------------------------------\n",
      "unsorted_last_idx: 0 \n",
      " nums: [1, 2, 3, 4, 7] \n",
      " ----------------------------------------------------------------------\n"
     ]
    },
    {
     "data": {
      "text/plain": [
       "[1, 2, 3, 4, 7]"
      ]
     },
     "execution_count": 14,
     "metadata": {},
     "output_type": "execute_result"
    }
   ],
   "source": [
    "def bubble_sort(nums):\n",
    "    '''\n",
    "    init: \n",
    "    unsorted_last_idx: 最後一個遍歷的元素idx\n",
    "    sorted: 這個數列有沒有被排序過\n",
    "    -------------------------------------\n",
    "    time complexity: (N+1)*N/2\n",
    "    '''\n",
    "    unsorted_last_idx = len(nums) - 1\n",
    "    sorted = False\n",
    "\n",
    "    while not sorted:\n",
    "        sorted = True # break condition\n",
    "        for i in range(unsorted_last_idx):\n",
    "            if nums[i] > nums[i+1]:\n",
    "                sorted = False\n",
    "                nums[i], nums[i+1] = nums[i+1], nums[i]\n",
    "        unsorted_last_idx -= 1\n",
    "        print(f'unsorted_last_idx: {unsorted_last_idx}','\\n',\n",
    "              f'nums: {nums}','\\n','-'*70)\n",
    "\n",
    "    return nums\n",
    "\n",
    "bubble_sort(nums = [4, 2, 7, 1, 3])"
   ]
  }
 ],
 "metadata": {
  "kernelspec": {
   "display_name": "Python 3.8.13 ('crawler_env')",
   "language": "python",
   "name": "python3"
  },
  "language_info": {
   "codemirror_mode": {
    "name": "ipython",
    "version": 3
   },
   "file_extension": ".py",
   "mimetype": "text/x-python",
   "name": "python",
   "nbconvert_exporter": "python",
   "pygments_lexer": "ipython3",
   "version": "3.8.13"
  },
  "orig_nbformat": 4,
  "vscode": {
   "interpreter": {
    "hash": "9319f67d0aaf62efc244bc9db5e0a547d5dd23177c15418b9b1afd70fc115717"
   }
  }
 },
 "nbformat": 4,
 "nbformat_minor": 2
}
