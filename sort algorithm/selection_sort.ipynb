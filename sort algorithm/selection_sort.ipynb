{
 "cells": [
  {
   "cell_type": "code",
   "execution_count": 32,
   "metadata": {},
   "outputs": [],
   "source": [
    "nums = [4,1,2,3,7]"
   ]
  },
  {
   "cell_type": "code",
   "execution_count": 33,
   "metadata": {},
   "outputs": [],
   "source": [
    "def selection_sort(nums):\n",
    "    start_idx = 0\n",
    "\n",
    "    while start_idx < len(nums):\n",
    "        tmp_min = float('inf')\n",
    "        # search\n",
    "        for i, n in enumerate(nums[start_idx:]):\n",
    "            if n < tmp_min:\n",
    "                tmp_min = n\n",
    "                tmp_min_idx = i   \n",
    "        # switch\n",
    "        nums[start_idx], nums[start_idx+tmp_min_idx] = nums[start_idx+tmp_min_idx], nums[start_idx]\n",
    "        start_idx += 1\n",
    "\n",
    "    return nums"
   ]
  },
  {
   "cell_type": "code",
   "execution_count": 34,
   "metadata": {},
   "outputs": [
    {
     "data": {
      "text/plain": [
       "[1, 2, 3, 4, 7]"
      ]
     },
     "execution_count": 34,
     "metadata": {},
     "output_type": "execute_result"
    }
   ],
   "source": [
    "selection_sort(nums)"
   ]
  }
 ],
 "metadata": {
  "kernelspec": {
   "display_name": "Python 3.8.13 ('ckip_env')",
   "language": "python",
   "name": "python3"
  },
  "language_info": {
   "codemirror_mode": {
    "name": "ipython",
    "version": 3
   },
   "file_extension": ".py",
   "mimetype": "text/x-python",
   "name": "python",
   "nbconvert_exporter": "python",
   "pygments_lexer": "ipython3",
   "version": "3.8.13"
  },
  "orig_nbformat": 4,
  "vscode": {
   "interpreter": {
    "hash": "06187b0398c5865e4abb9cf35dd0ffb3c218374262a94c60bb1ffc807459510b"
   }
  }
 },
 "nbformat": 4,
 "nbformat_minor": 2
}
